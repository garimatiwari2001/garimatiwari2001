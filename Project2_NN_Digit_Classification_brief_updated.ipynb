{
  "nbformat": 4,
  "nbformat_minor": 0,
  "metadata": {
    "colab": {
      "name": "Project2_NN_Digit_Classification_brief_updated.ipynb",
      "provenance": [],
      "collapsed_sections": []
    },
    "kernelspec": {
      "name": "python3",
      "display_name": "Python 3"
    },
    "accelerator": "GPU"
  },
  "cells": [
    {
      "cell_type": "markdown",
      "metadata": {
        "colab_type": "text",
        "id": "LxjUOqbicMOa"
      },
      "source": [
        "<h1>Neural Net and Deep Learning-SVHN Project</h1>\n",
        "\n",
        "---\n",
        "\n"
      ]
    },
    {
      "cell_type": "markdown",
      "metadata": {
        "id": "VGaFQrtQrg3Y",
        "colab_type": "text"
      },
      "source": [
        ""
      ]
    },
    {
      "cell_type": "markdown",
      "metadata": {
        "colab_type": "text",
        "id": "GTQlTR2Scks4"
      },
      "source": [
        "# Importing Keras Modules\n"
      ]
    },
    {
      "cell_type": "code",
      "metadata": {
        "colab_type": "code",
        "id": "1ve46hnH315r",
        "colab": {
          "base_uri": "https://localhost:8080/",
          "height": 81
        },
        "outputId": "14e6c45b-d487-449d-8753-38d7c510c0d1"
      },
      "source": [
        "#Importing important modules\n",
        "import matplotlib.pyplot as plt\n",
        "import pandas as pd\n",
        "import keras\n",
        "from keras.models import Sequential\n",
        "from keras.layers import Dense, Dropout, Flatten\n",
        "from keras.optimizers import RMSprop\n",
        "from keras.layers.advanced_activations import LeakyReLU\n",
        "\n",
        "from keras.callbacks import EarlyStopping\n",
        "from keras.layers import BatchNormalization"
      ],
      "execution_count": 2,
      "outputs": [
        {
          "output_type": "stream",
          "text": [
            "Using TensorFlow backend.\n"
          ],
          "name": "stderr"
        },
        {
          "output_type": "display_data",
          "data": {
            "text/html": [
              "<p style=\"color: red;\">\n",
              "The default version of TensorFlow in Colab will soon switch to TensorFlow 2.x.<br>\n",
              "We recommend you <a href=\"https://www.tensorflow.org/guide/migrate\" target=\"_blank\">upgrade</a> now \n",
              "or ensure your notebook will continue to use TensorFlow 1.x via the <code>%tensorflow_version 1.x</code> magic:\n",
              "<a href=\"https://colab.research.google.com/notebooks/tensorflow_version.ipynb\" target=\"_blank\">more info</a>.</p>\n"
            ],
            "text/plain": [
              "<IPython.core.display.HTML object>"
            ]
          },
          "metadata": {
            "tags": []
          }
        }
      ]
    },
    {
      "cell_type": "code",
      "metadata": {
        "id": "xYhve4_v7j9B",
        "colab_type": "code",
        "outputId": "7242cb46-0100-4ba6-af36-eed32b322289",
        "colab": {
          "base_uri": "https://localhost:8080/",
          "height": 34
        }
      },
      "source": [
        "from google.colab import drive\n",
        "drive.mount('/gdrive')\n"
      ],
      "execution_count": 3,
      "outputs": [
        {
          "output_type": "stream",
          "text": [
            "Drive already mounted at /gdrive; to attempt to forcibly remount, call drive.mount(\"/gdrive\", force_remount=True).\n"
          ],
          "name": "stdout"
        }
      ]
    },
    {
      "cell_type": "code",
      "metadata": {
        "id": "jYMQsT0ae5wK",
        "colab_type": "code",
        "colab": {}
      },
      "source": [
        "import os\n",
        "os.chdir('/gdrive/My Drive/IN CLASS')\n"
      ],
      "execution_count": 0,
      "outputs": []
    },
    {
      "cell_type": "markdown",
      "metadata": {
        "colab_type": "text",
        "id": "OKVkkLaLdPGU"
      },
      "source": [
        "# Loading the Dataset"
      ]
    },
    {
      "cell_type": "markdown",
      "metadata": {
        "colab_type": "text",
        "id": "JK0ZRJoxhrFe"
      },
      "source": [
        "<h3>Load SVHN dataset from a h5 file</h3>"
      ]
    },
    {
      "cell_type": "code",
      "metadata": {
        "colab_type": "code",
        "id": "toLxzg_i3XOX",
        "colab": {}
      },
      "source": [
        "import h5py\n",
        "import numpy as np\n",
        "\n",
        "# Open the file as readonly. The file should be present inside a directory called \"data\" in the same folder as code\n",
        "h5f = h5py.File('Copy of SVHN_single_grey1.h5', 'r')\n",
        "\n",
        "# Load the training, test and validation set\n",
        "x_train = h5f['X_train'][:]\n",
        "y_train = h5f['y_train'][:]\n",
        "x_test = h5f['X_test'][:]\n",
        "y_test = h5f['y_test'][:]\n",
        "\n",
        "\n",
        "# Close this file\n",
        "h5f.close()\n"
      ],
      "execution_count": 0,
      "outputs": []
    },
    {
      "cell_type": "code",
      "metadata": {
        "id": "x-Kk1g5dql3G",
        "colab_type": "code",
        "outputId": "3ba8d755-e295-4129-ad99-a9f932231ffb",
        "colab": {
          "base_uri": "https://localhost:8080/",
          "height": 34
        }
      },
      "source": [
        "x_train.shape"
      ],
      "execution_count": 6,
      "outputs": [
        {
          "output_type": "execute_result",
          "data": {
            "text/plain": [
              "(42000, 32, 32)"
            ]
          },
          "metadata": {
            "tags": []
          },
          "execution_count": 6
        }
      ]
    },
    {
      "cell_type": "code",
      "metadata": {
        "id": "ofmOn7YOWDC0",
        "colab_type": "code",
        "outputId": "fee6eb29-f988-4574-c5be-a059dde08bfb",
        "colab": {
          "base_uri": "https://localhost:8080/",
          "height": 34
        }
      },
      "source": [
        "x_test.shape"
      ],
      "execution_count": 7,
      "outputs": [
        {
          "output_type": "execute_result",
          "data": {
            "text/plain": [
              "(18000, 32, 32)"
            ]
          },
          "metadata": {
            "tags": []
          },
          "execution_count": 7
        }
      ]
    },
    {
      "cell_type": "code",
      "metadata": {
        "colab_type": "code",
        "id": "46fuZzc6QZxx",
        "outputId": "010fce22-aa56-45dc-d7e2-6e7d4aa9b2dd",
        "colab": {
          "base_uri": "https://localhost:8080/",
          "height": 34
        }
      },
      "source": [
        "print(x_train.dtype)"
      ],
      "execution_count": 8,
      "outputs": [
        {
          "output_type": "stream",
          "text": [
            "float32\n"
          ],
          "name": "stdout"
        }
      ]
    },
    {
      "cell_type": "code",
      "metadata": {
        "id": "W_UWQi27WjIJ",
        "colab_type": "code",
        "outputId": "db57a062-56af-4db8-ade2-4688f139ef2f",
        "colab": {
          "base_uri": "https://localhost:8080/",
          "height": 34
        }
      },
      "source": [
        "print(y_train.dtype)"
      ],
      "execution_count": 9,
      "outputs": [
        {
          "output_type": "stream",
          "text": [
            "uint8\n"
          ],
          "name": "stdout"
        }
      ]
    },
    {
      "cell_type": "markdown",
      "metadata": {
        "colab_type": "text",
        "id": "kMGQuoyNiqmL"
      },
      "source": [
        "<h3>Pre-processing the dataset</h3>\n",
        "<h4>Normalizing the input</h4>"
      ]
    },
    {
      "cell_type": "code",
      "metadata": {
        "colab_type": "code",
        "id": "M1kXqqfV4d_b",
        "outputId": "4b944b20-4a96-4030-85bf-40d0bf3ed793",
        "colab": {
          "base_uri": "https://localhost:8080/",
          "height": 70
        }
      },
      "source": [
        "x_train = x_train.astype('float32')\n",
        "x_test = x_test.astype('float32')\n",
        "\n",
        "#Normalizing the input\n",
        "x_train /= 255\n",
        "x_test /= 255\n",
        "print('x_train shape:', x_train.shape)\n",
        "print(x_train.shape[0], 'train samples')\n",
        "print(x_test.shape[0], 'test samples')"
      ],
      "execution_count": 10,
      "outputs": [
        {
          "output_type": "stream",
          "text": [
            "x_train shape: (42000, 32, 32)\n",
            "42000 train samples\n",
            "18000 test samples\n"
          ],
          "name": "stdout"
        }
      ]
    },
    {
      "cell_type": "code",
      "metadata": {
        "id": "vxHflqW_TR4C",
        "colab_type": "code",
        "outputId": "4353dc04-6c2d-4463-f1b1-9d6c8ff04757",
        "colab": {
          "base_uri": "https://localhost:8080/",
          "height": 34
        }
      },
      "source": [
        "x_train.shape[0]"
      ],
      "execution_count": 11,
      "outputs": [
        {
          "output_type": "execute_result",
          "data": {
            "text/plain": [
              "42000"
            ]
          },
          "metadata": {
            "tags": []
          },
          "execution_count": 11
        }
      ]
    },
    {
      "cell_type": "code",
      "metadata": {
        "id": "5zmsHnYRStHV",
        "colab_type": "code",
        "colab": {}
      },
      "source": [
        "x_train = x_train.reshape(x_train.shape[0], 32, 32, 1).astype('float32')\n",
        "x_test = x_test.reshape(x_test.shape[0], 32, 32, 1).astype('float32')"
      ],
      "execution_count": 0,
      "outputs": []
    },
    {
      "cell_type": "code",
      "metadata": {
        "colab_type": "code",
        "id": "_Dp-jITGs4Jq",
        "colab": {}
      },
      "source": [
        "batch_size = 128\n",
        "num_classes = 10\n",
        "epochs = 10"
      ],
      "execution_count": 0,
      "outputs": []
    },
    {
      "cell_type": "code",
      "metadata": {
        "colab_type": "code",
        "id": "qX8CdMUs5qvO",
        "outputId": "cf96b449-857f-46f4-bba5-53892928c672",
        "colab": {
          "base_uri": "https://localhost:8080/",
          "height": 34
        }
      },
      "source": [
        "print(y_train[0])"
      ],
      "execution_count": 14,
      "outputs": [
        {
          "output_type": "stream",
          "text": [
            "2\n"
          ],
          "name": "stdout"
        }
      ]
    },
    {
      "cell_type": "markdown",
      "metadata": {
        "colab_type": "text",
        "id": "N8TE7MoZi_w7"
      },
      "source": [
        "<h4>Convert Labels from digits to one hot vectors</h4>"
      ]
    },
    {
      "cell_type": "code",
      "metadata": {
        "colab_type": "code",
        "id": "cqh-cVtT4ijU",
        "colab": {}
      },
      "source": [
        "import keras\n",
        "# convert class vectors to binary class matrices\n",
        "y_train = keras.utils.to_categorical(y_train, num_classes=10)\n",
        "y_test = keras.utils.to_categorical(y_test, num_classes=10)"
      ],
      "execution_count": 0,
      "outputs": []
    },
    {
      "cell_type": "code",
      "metadata": {
        "colab_type": "code",
        "id": "yMfUrCYO5VeA",
        "outputId": "1d9c2ef4-28f0-45ba-efa3-1d2fb102e42a",
        "colab": {
          "base_uri": "https://localhost:8080/",
          "height": 34
        }
      },
      "source": [
        "print(y_test[919])"
      ],
      "execution_count": 16,
      "outputs": [
        {
          "output_type": "stream",
          "text": [
            "[0. 0. 0. 0. 1. 0. 0. 0. 0. 0.]\n"
          ],
          "name": "stdout"
        }
      ]
    },
    {
      "cell_type": "code",
      "metadata": {
        "colab_type": "code",
        "id": "7sse4G5d4lpY",
        "colab": {}
      },
      "source": [
        "\n",
        "#Initialize the model\n",
        "model = Sequential()\n",
        "\n",
        "model.add(Dense(784,activation='relu'))\n",
        "#Apply Dropout with 0.5 probability \n",
        "#model.add(Dropout(0.5,name='drop_1'))\n",
        "\n",
        "model.add(Dense(100,activation='relu'))\n",
        "#Apply Dropout with 0.25 probability \n",
        "#model.add(Dropout(0.25,name='drop_2'))\n",
        "\n",
        "model.add(Dense(128,activation='relu'))\n",
        "#Apply Dropout with 0.5 probability \n",
        "#model.add(Dropout(0.5,name='drop_3'))\n",
        "\n",
        "\n",
        "model.add(Dense(256,activation='relu'))\n",
        "#Apply Dropout with 0.5 probability \n",
        "#model.add(Dropout(0.5,name='drop_4'))\n",
        "\n",
        "model.add(Dense(512,activation='relu'))\n",
        "keras.layers.BatchNormalization(axis=-1, momentum=0.90, epsilon=0.001, center=True, scale=True, beta_initializer='zeros', gamma_initializer='ones', moving_mean_initializer='zeros', moving_variance_initializer='ones', beta_regularizer=None, gamma_regularizer=None, beta_constraint=None, gamma_constraint=None)\n",
        "\n",
        "#Apply Dropout with 0.5 probability \n",
        "#model.add(Dropout(0.5,name='drop_1'))\n",
        "model.add(Flatten())\n",
        "model.add(Dense(10,activation='softmax'))\n",
        "\n",
        "model.compile(loss='categorical_crossentropy',optimizer='sgd',metrics=['accuracy'])\n"
      ],
      "execution_count": 0,
      "outputs": []
    },
    {
      "cell_type": "code",
      "metadata": {
        "id": "xHpGYBNbsHl2",
        "colab_type": "code",
        "colab": {
          "base_uri": "https://localhost:8080/",
          "height": 407
        },
        "outputId": "19454145-13b6-4365-e2bd-548f02be77f7"
      },
      "source": [
        "model.fit(x_train, y_train,\n",
        "          batch_size=batch_size,\n",
        "          epochs=10,\n",
        "          verbose=1,\n",
        "          validation_data=(x_test, y_test))"
      ],
      "execution_count": 42,
      "outputs": [
        {
          "output_type": "stream",
          "text": [
            "Train on 42000 samples, validate on 18000 samples\n",
            "Epoch 1/10\n",
            "42000/42000 [==============================] - 31s 733us/step - loss: 2.3026 - acc: 0.1006 - val_loss: 2.3024 - val_acc: 0.1122\n",
            "Epoch 2/10\n",
            "42000/42000 [==============================] - 30s 704us/step - loss: 2.3022 - acc: 0.1054 - val_loss: 2.3022 - val_acc: 0.1047\n",
            "Epoch 3/10\n",
            "42000/42000 [==============================] - 30s 709us/step - loss: 2.3019 - acc: 0.1062 - val_loss: 2.3019 - val_acc: 0.1078\n",
            "Epoch 4/10\n",
            "42000/42000 [==============================] - 30s 704us/step - loss: 2.3014 - acc: 0.1210 - val_loss: 2.3016 - val_acc: 0.0987\n",
            "Epoch 5/10\n",
            "42000/42000 [==============================] - 30s 704us/step - loss: 2.3008 - acc: 0.1255 - val_loss: 2.3009 - val_acc: 0.1127\n",
            "Epoch 6/10\n",
            "42000/42000 [==============================] - 30s 704us/step - loss: 2.3000 - acc: 0.1376 - val_loss: 2.2998 - val_acc: 0.1217\n",
            "Epoch 7/10\n",
            "42000/42000 [==============================] - 30s 710us/step - loss: 2.2986 - acc: 0.1492 - val_loss: 2.2982 - val_acc: 0.1484\n",
            "Epoch 8/10\n",
            "42000/42000 [==============================] - 30s 706us/step - loss: 2.2965 - acc: 0.1619 - val_loss: 2.2957 - val_acc: 0.1559\n",
            "Epoch 9/10\n",
            "42000/42000 [==============================] - 30s 707us/step - loss: 2.2930 - acc: 0.1715 - val_loss: 2.2915 - val_acc: 0.1769\n",
            "Epoch 10/10\n",
            "42000/42000 [==============================] - 30s 705us/step - loss: 2.2873 - acc: 0.1858 - val_loss: 2.2846 - val_acc: 0.1747\n"
          ],
          "name": "stdout"
        },
        {
          "output_type": "execute_result",
          "data": {
            "text/plain": [
              "<keras.callbacks.History at 0x7f74a7a95b38>"
            ]
          },
          "metadata": {
            "tags": []
          },
          "execution_count": 42
        }
      ]
    },
    {
      "cell_type": "code",
      "metadata": {
        "id": "tnKvSvWkMw8l",
        "colab_type": "code",
        "outputId": "c7a4433a-48e5-4269-bf1f-6a7567337c65",
        "colab": {
          "base_uri": "https://localhost:8080/",
          "height": 407
        }
      },
      "source": [
        "model.summary()"
      ],
      "execution_count": 43,
      "outputs": [
        {
          "output_type": "stream",
          "text": [
            "Model: \"sequential_11\"\n",
            "_________________________________________________________________\n",
            "Layer (type)                 Output Shape              Param #   \n",
            "=================================================================\n",
            "dense_52 (Dense)             (None, 32, 32, 784)       1568      \n",
            "_________________________________________________________________\n",
            "dense_53 (Dense)             (None, 32, 32, 100)       78500     \n",
            "_________________________________________________________________\n",
            "dense_54 (Dense)             (None, 32, 32, 128)       12928     \n",
            "_________________________________________________________________\n",
            "dense_55 (Dense)             (None, 32, 32, 256)       33024     \n",
            "_________________________________________________________________\n",
            "dense_56 (Dense)             (None, 32, 32, 512)       131584    \n",
            "_________________________________________________________________\n",
            "flatten_8 (Flatten)          (None, 524288)            0         \n",
            "_________________________________________________________________\n",
            "dense_57 (Dense)             (None, 10)                5242890   \n",
            "=================================================================\n",
            "Total params: 5,500,494\n",
            "Trainable params: 5,500,494\n",
            "Non-trainable params: 0\n",
            "_________________________________________________________________\n"
          ],
          "name": "stdout"
        }
      ]
    },
    {
      "cell_type": "markdown",
      "metadata": {
        "colab_type": "text",
        "id": "wJIhBhbDmZ8U"
      },
      "source": [
        "<h4>Fit the model to the SVHN dataset</h4>"
      ]
    },
    {
      "cell_type": "markdown",
      "metadata": {
        "colab_type": "text",
        "id": "U3WWyAm_me96"
      },
      "source": [
        "# Classification Accuracy"
      ]
    },
    {
      "cell_type": "markdown",
      "metadata": {
        "colab_type": "text",
        "id": "_DnRZGxSmi5C"
      },
      "source": [
        "[link text](https:// [link text](https://))<h4>Evaluate trained model on the test set</h4>"
      ]
    },
    {
      "cell_type": "code",
      "metadata": {
        "colab_type": "code",
        "id": "q4oZhZm34v_R",
        "outputId": "985bd86b-f19f-498b-c4c0-26044ad7575f",
        "colab": {
          "base_uri": "https://localhost:8080/",
          "height": 70
        }
      },
      "source": [
        "#Testing the model on test set\n",
        "score = model.evaluate(x_test, y_test)\n",
        "print('Test loss:', score[0])\n",
        "print('Test accuracy:', score[1])"
      ],
      "execution_count": 44,
      "outputs": [
        {
          "output_type": "stream",
          "text": [
            "18000/18000 [==============================] - 6s 349us/step\n",
            "Test loss: 2.2845989276038274\n",
            "Test accuracy: 0.17472222222222222\n"
          ],
          "name": "stdout"
        }
      ]
    },
    {
      "cell_type": "markdown",
      "metadata": {
        "colab_type": "text",
        "id": "tWuDdzf0rgf-"
      },
      "source": [
        "<h4>Visualizing some predictions</h4>"
      ]
    },
    {
      "cell_type": "code",
      "metadata": {
        "colab_type": "code",
        "id": "V2TDTy0PyNDB",
        "outputId": "c4a0be6e-d8e1-4755-e56b-deaa9dd334f6",
        "colab": {
          "base_uri": "https://localhost:8080/",
          "height": 336
        }
      },
      "source": [
        "import numpy as np\n",
        "\n",
        "plt.figure(figsize=(2,2))\n",
        "plt.imshow(x_test[3].reshape(32,32),cmap=\"gray\")\n",
        "plt.show()\n",
        "print(np.argmax(model.predict(x_test[3].reshape(1,32,32,1))))\n",
        "\n",
        "\n",
        "plt.figure(figsize=(2,2))\n",
        "plt.imshow(x_test[8800].reshape(32,32),cmap=\"gray\")\n",
        "plt.show()\n",
        "print(np.argmax(model.predict(x_test[800].reshape(1,32,32,1))))\n",
        "\n",
        "\n"
      ],
      "execution_count": 45,
      "outputs": [
        {
          "output_type": "display_data",
          "data": {
            "image/png": "[encoded data removed]",
            "text/plain": [
              "<Figure size 144x144 with 1 Axes>"
            ]
          },
          "metadata": {
            "tags": []
          }
        },
        {
          "output_type": "stream",
          "text": [
            "1\n"
          ],
          "name": "stdout"
        },
        {
          "output_type": "display_data",
          "data": {
            "image/png": "[encoded data removed]",
            "text/plain": [
              "<Figure size 144x144 with 1 Axes>"
            ]
          },
          "metadata": {
            "tags": []
          }
        },
        {
          "output_type": "stream",
          "text": [
            "0\n"
          ],
          "name": "stdout"
        }
      ]
    }
  ]
}